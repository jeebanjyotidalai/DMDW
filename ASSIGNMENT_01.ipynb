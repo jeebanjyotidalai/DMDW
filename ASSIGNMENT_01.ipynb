{
  "nbformat": 4,
  "nbformat_minor": 0,
  "metadata": {
    "colab": {
      "name": "ASSIGNMENT-01.ipynb",
      "provenance": [],
      "authorship_tag": "ABX9TyP+7R13YrEyISempQuLx0tm",
      "include_colab_link": true
    },
    "kernelspec": {
      "name": "python3",
      "display_name": "Python 3"
    },
    "language_info": {
      "name": "python"
    }
  },
  "cells": [
    {
      "cell_type": "markdown",
      "metadata": {
        "id": "view-in-github",
        "colab_type": "text"
      },
      "source": [
        "<a href=\"https://colab.research.google.com/github/jeebanjyotidalai/DMDW/blob/main/ASSIGNMENT_01.ipynb\" target=\"_parent\"><img src=\"https://colab.research.google.com/assets/colab-badge.svg\" alt=\"Open In Colab\"/></a>"
      ]
    },
    {
      "cell_type": "code",
      "metadata": {
        "id": "qjKCa6lPGH7R"
      },
      "source": [
        "ASSIGNMENT-01"
      ],
      "execution_count": null,
      "outputs": []
    },
    {
      "cell_type": "markdown",
      "metadata": {
        "id": "b1Zi-b6YHpWM"
      },
      "source": [
        "MEAN"
      ]
    },
    {
      "cell_type": "code",
      "metadata": {
        "colab": {
          "base_uri": "https://localhost:8080/"
        },
        "id": "XaGSfmv5G9QE",
        "outputId": "5f404547-b2c5-486d-9faa-bd7d26dad181"
      },
      "source": [
        "n_num = [1, 15,34,5]\n",
        "n = len(n_num)\n",
        "  \n",
        "get_sum = sum(n_num)\n",
        "mean = get_sum / n\n",
        "  \n",
        "print(\"Mean : \" + str(mean))"
      ],
      "execution_count": null,
      "outputs": [
        {
          "output_type": "stream",
          "name": "stdout",
          "text": [
            "Mean : 13.75\n"
          ]
        }
      ]
    },
    {
      "cell_type": "code",
      "metadata": {
        "id": "m-0VDNK6HryN"
      },
      "source": [
        ""
      ],
      "execution_count": null,
      "outputs": []
    },
    {
      "cell_type": "markdown",
      "metadata": {
        "id": "pFgCLFP6Hsh_"
      },
      "source": [
        "MEDIAN"
      ]
    },
    {
      "cell_type": "code",
      "metadata": {
        "colab": {
          "base_uri": "https://localhost:8080/"
        },
        "id": "FoB1U3k5Huz8",
        "outputId": "6654093a-4644-47e2-8a1c-219456621c5a"
      },
      "source": [
        " n_num = [1, 2, 3, 4, 5]\n",
        " n = len(n_num)\n",
        " n_num.sort()\n",
        "  \n",
        "if n % 2 == 0:\n",
        "  median1 = n_num[n//2]\n",
        "  median2 = n_num[n//2 - 1]\n",
        "  median = (median1 + median2)/2\n",
        " else:\n",
        "    median = n_num[n//2]\n",
        " print(\"Median is: \" + str(median))"
      ],
      "execution_count": null,
      "outputs": [
        {
          "output_type": "stream",
          "name": "stdout",
          "text": [
            "Median is: 3\n"
          ]
        }
      ]
    },
    {
      "cell_type": "markdown",
      "metadata": {
        "id": "bv4llTIpIsuk"
      },
      "source": [
        "MODE"
      ]
    },
    {
      "cell_type": "code",
      "metadata": {
        "colab": {
          "base_uri": "https://localhost:8080/"
        },
        "id": "9bNzFD5oIyeJ",
        "outputId": "a4b57d43-0d46-46ef-f44b-90f147425a62"
      },
      "source": [
        "from collections import Counter\n",
        "\n",
        "n_num = [1, 2, 3, 4, 5, 5]\n",
        "n = len(n_num)\n",
        "data = Counter(n_num)\n",
        "get_mode = dict(data)\n",
        "mode = [k for k, v in get_mode.items() if v == max(list(data.values()))]\n",
        "  \n",
        "if len(mode) == n:\n",
        "    get_mode = \"No mode found\"\n",
        "else:\n",
        "    get_mode = \"Mode is / are: \" + ', '.join(map(str, mode))\n",
        "      \n",
        "print(get_mode)"
      ],
      "execution_count": null,
      "outputs": [
        {
          "output_type": "stream",
          "name": "stdout",
          "text": [
            "Mode is / are: 5\n"
          ]
        }
      ]
    },
    {
      "cell_type": "markdown",
      "metadata": {
        "id": "1yI5jvrdJsxx"
      },
      "source": [
        "STANDARD DEVIATION"
      ]
    },
    {
      "cell_type": "code",
      "metadata": {
        "colab": {
          "base_uri": "https://localhost:8080/"
        },
        "id": "vV8gEmWbJ_an",
        "outputId": "2e884ad4-3442-4d0a-f260-3a8e761a0f7c"
      },
      "source": [
        "import statistics\n",
        "sample = [1, 2, 3, 4, 5]\n",
        "print(\"Standard Deviation of sample is % s \"\n",
        "                % (statistics.stdev(sample)))\n",
        "\n",
        "\n"
      ],
      "execution_count": null,
      "outputs": [
        {
          "output_type": "stream",
          "name": "stdout",
          "text": [
            "Standard Deviation of sample is 1.5811388300841898 \n"
          ]
        }
      ]
    },
    {
      "cell_type": "markdown",
      "metadata": {
        "id": "rFPNEz8GKgyD"
      },
      "source": [
        "VARIANCE"
      ]
    },
    {
      "cell_type": "code",
      "metadata": {
        "colab": {
          "base_uri": "https://localhost:8080/"
        },
        "id": "CD6_MKhjKk9E",
        "outputId": "7f67ad6e-04c0-4c52-d8c0-64b11a6c26ff"
      },
      "source": [
        "\n",
        "import statistics\n",
        "sample = [1, 2, 3, 4, 5]\n",
        "print(\"Standard Deviation of sample is % s \"\n",
        "                % (statistics.stdev(sample)))"
      ],
      "execution_count": null,
      "outputs": [
        {
          "output_type": "stream",
          "name": "stdout",
          "text": [
            "Standard Deviation of sample is 1.5811388300841898 \n"
          ]
        }
      ]
    }
  ]
}